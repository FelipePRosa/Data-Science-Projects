{
  "nbformat": 4,
  "nbformat_minor": 0,
  "metadata": {
    "colab": {
      "name": "Classificador_de_Fake_News",
      "provenance": [],
      "collapsed_sections": [],
      "include_colab_link": true
    },
    "kernelspec": {
      "name": "python3",
      "display_name": "Python 3"
    },
    "accelerator": "GPU"
  },
  "cells": [
    {
      "cell_type": "markdown",
      "metadata": {
        "id": "view-in-github",
        "colab_type": "text"
      },
      "source": [
        "<a href=\"https://colab.research.google.com/github/FelipePRosa/Data-Science-Projects/blob/main/Classificador_de_Fake_News.ipynb\" target=\"_parent\"><img src=\"https://colab.research.google.com/assets/colab-badge.svg\" alt=\"Open In Colab\"/></a>"
      ]
    },
    {
      "cell_type": "markdown",
      "metadata": {
        "id": "RkaoEbgL_mg6"
      },
      "source": [
        "# Classificador de Fake News\n",
        "<img alt=\"Colaboratory logo\" width=\"40%\" src=\"https://image.freepik.com/vetores-gratis/conceito-de-noticias-falsas_23-2148511560.jpg\">\n",
        "\n",
        "\n",
        "*by [Felipe Rosa](https://www.linkedin.com/in/felipe-pimentel-rosa-19975b10b/)*<br>\n",
        "*Blog: [Medium](https://medium.com/@felipepimentelrosa)*\n",
        "\n",
        "---\n",
        "<br>\n",
        "\n",
        "Com o avanço constante e cada vez mais rápido da tecnologia, a era digital disponibiliza a informação de forma mais acessível do que nunca, e continua ficando cada vez mais acessível, de forma mais ágil e ampla.\n",
        "\n",
        "Por mais que os benefícios que isso traz sejam extremamente importantes, também existem problemas e riscos com isso. Aqui, vamos nos preocupar com um dos maiores deles: ***Fake News***\n",
        "\n",
        "<p align=center>\n",
        "  <img src=\"https://image.freepik.com/fotos-gratis/manchete-de-noticias-falsas-em-um-jornal_53876-24882.jpg\" height=\"30%\">\n",
        "</p>\n",
        "\n",
        "Com certeza você já se deparou com uma dessas. Em uma era de informação, a desinformação acaba sendo o nosso maior problema.\n",
        "\n",
        "Em suma, ***Fake News*** são, como a tradução literal sugere, Notícias Falsas. Elas podem ir desde um número diferente em uma estatística apresentada, até a notícia de uma acontecimento completamente falso.\n",
        "\n",
        "Claire Wardle, do First Draft News, identifica sete tipos de notícias falsas:\n",
        "\n",
        "* Sátira ou paródia (\"sem intenção de fazer mal, mas tem potencial para enganar\")\n",
        "* Falsa conexão (\"quando as manchetes, visuais das legendas não dão suporte a conteúdo\")\n",
        "* Conteúdo enganoso (\"má utilização da informação para moldar um problema ou de um indivíduo\")\n",
        "* Contexto falso (\"quando o verdadeiro conteúdo é compartilhado com informações falsas contextuais\")\n",
        "* Conteúdo impostor (\"quando fontes verdadeiras são forjadas\" com conteúdo falso)\n",
        "* Conteúdo manipulado (\"quando informação genuína ou imagens são manipuladas para enganar\", como fotos \"adulteradas\")\n",
        "* Conteúdo fabricado (\"conteúdo novo é 100% falso, projetado para enganar e fazer mal\")\n"
      ]
    },
    {
      "cell_type": "markdown",
      "metadata": {
        "id": "CKgjDgkbTMLL"
      },
      "source": [
        "## Como isso influencia nossa vida?\n",
        "\n",
        "Nós tendemos a acreditar nos grandes veículos de mídia, ou de pessoas do nosso ciclo de amigos que nos encaminham notícias em redes sociais. Dessa forma, criamos o hábito de não checar nossas fontes, e assim, acreditamos e disseminamos notícias falsas, às vezes sem nem saber.\n",
        "\n",
        "Isso se torna um grande problema quando afeta o resultado de algo importante no bem comum de nossa sociedade, como resultados de eleições, opinião pública sobre determinados projetos, políticas públicas, e até pessoas públicas, sejam elas do meio político, artístico, jornalístico, ou qualquer outro."
      ]
    },
    {
      "cell_type": "markdown",
      "metadata": {
        "id": "dXTHFaBnTtxq"
      },
      "source": [
        "## O Projeto\n",
        "\n",
        "Hoje em dia, podemos contar com ferramentas que nos ajudem a identificar e filtrar notícias falsas. Com técnicas de *Machine Learninr* como **Redes Neurais** essa tarefa de vasculhar diversas fontes de notícias para descobrir o que é falso e o que é factual fica mais fácil.\n",
        "\n",
        "> O objetivo do projeto é treinar um modelo que seja capaz de classificar notícias, com a melhor acurácia possível, entre falsas ou factuais.\n",
        "\n",
        "Para isso, usaremos a biblioteca ***Tensorflow*** para treinar Redes Neurais que façam esse trabalho por nós."
      ]
    },
    {
      "cell_type": "code",
      "metadata": {
        "id": "zb0mFDoc4ftY"
      },
      "source": [
        "# importando os pacotes necessarios\n",
        "import pandas as pd\n",
        "import numpy as np\n",
        "import matplotlib.pyplot as plt\n",
        "import seaborn as sns\n",
        "%tensorflow_version 2.x\n",
        "import tensorflow as tf\n",
        "from tensorflow import keras\n",
        "\n",
        "# configurando o noteebook\n",
        "np.random.seed(42)\n",
        "sns.set_style()\n",
        "\n",
        "# filtrar mensagens de warning\n",
        "import warnings\n",
        "warnings.filterwarnings('ignore')"
      ],
      "execution_count": 25,
      "outputs": []
    },
    {
      "cell_type": "code",
      "metadata": {
        "id": "8age37QVBGTA"
      },
      "source": [
        "true= pd.read_csv(\"/content/drive/MyDrive/Colab Notebooks/Sigmoidal/Projetos/data/True.csv\")\n",
        "fake= pd.read_csv(\"/content/drive/MyDrive/Colab Notebooks/Sigmoidal/Projetos/data/Fake.csv\")"
      ],
      "execution_count": 26,
      "outputs": []
    },
    {
      "cell_type": "code",
      "metadata": {
        "id": "EQZ4dv_bB1xQ"
      },
      "source": [
        "# cria nova coluna com target em 0 para notícias verdadeiras\n",
        "true[\"Target\"] = 0\n",
        "# cria nova coluna com target em 1 para notícias falsas\n",
        "fake[\"Target\"] = 1"
      ],
      "execution_count": 27,
      "outputs": []
    },
    {
      "cell_type": "code",
      "metadata": {
        "colab": {
          "base_uri": "https://localhost:8080/",
          "height": 225
        },
        "id": "RWxgdiR6EWHB",
        "outputId": "12b11e3c-9f96-49bc-f294-09c98c2aec50"
      },
      "source": [
        "# carregando e verificando os dados\n",
        "df = true.copy()\n",
        "df = df.append(fake)\n",
        "df = df.sample(df.shape[0]).reset_index(drop=True)\n",
        "\n",
        "print(df.shape)\n",
        "df.head()"
      ],
      "execution_count": 70,
      "outputs": [
        {
          "output_type": "stream",
          "text": [
            "(44898, 5)\n"
          ],
          "name": "stdout"
        },
        {
          "output_type": "execute_result",
          "data": {
            "text/html": [
              "<div>\n",
              "<style scoped>\n",
              "    .dataframe tbody tr th:only-of-type {\n",
              "        vertical-align: middle;\n",
              "    }\n",
              "\n",
              "    .dataframe tbody tr th {\n",
              "        vertical-align: top;\n",
              "    }\n",
              "\n",
              "    .dataframe thead th {\n",
              "        text-align: right;\n",
              "    }\n",
              "</style>\n",
              "<table border=\"1\" class=\"dataframe\">\n",
              "  <thead>\n",
              "    <tr style=\"text-align: right;\">\n",
              "      <th></th>\n",
              "      <th>title</th>\n",
              "      <th>text</th>\n",
              "      <th>subject</th>\n",
              "      <th>date</th>\n",
              "      <th>Target</th>\n",
              "    </tr>\n",
              "  </thead>\n",
              "  <tbody>\n",
              "    <tr>\n",
              "      <th>0</th>\n",
              "      <td>Exclusive: Trump considering fracking mogul Ha...</td>\n",
              "      <td>CLEVELAND (Reuters) - Republican presidential ...</td>\n",
              "      <td>politicsNews</td>\n",
              "      <td>July 21, 2016</td>\n",
              "      <td>0</td>\n",
              "    </tr>\n",
              "    <tr>\n",
              "      <th>1</th>\n",
              "      <td>Trump infrastructure plan adds little to globa...</td>\n",
              "      <td>LONDON (Reuters) - Investors who sent copper t...</td>\n",
              "      <td>politicsNews</td>\n",
              "      <td>November 16, 2016</td>\n",
              "      <td>0</td>\n",
              "    </tr>\n",
              "    <tr>\n",
              "      <th>2</th>\n",
              "      <td>Patrick Stewart Literally Paid A Guy To Not V...</td>\n",
              "      <td>Patrick Stewart despises Donald Trump so much ...</td>\n",
              "      <td>News</td>\n",
              "      <td>May 13, 2016</td>\n",
              "      <td>1</td>\n",
              "    </tr>\n",
              "    <tr>\n",
              "      <th>3</th>\n",
              "      <td>Trump attorney disputes Comey testimony, slams...</td>\n",
              "      <td>WASHINGTON (Reuters) - President Donald Trump’...</td>\n",
              "      <td>politicsNews</td>\n",
              "      <td>June 8, 2017</td>\n",
              "      <td>0</td>\n",
              "    </tr>\n",
              "    <tr>\n",
              "      <th>4</th>\n",
              "      <td>OH LOOK! New Yorkers Don’t Hate Trump As Much ...</td>\n",
              "      <td>https://twitter.com/RiggsReport/status/7986862...</td>\n",
              "      <td>politics</td>\n",
              "      <td>Nov 16, 2016</td>\n",
              "      <td>1</td>\n",
              "    </tr>\n",
              "  </tbody>\n",
              "</table>\n",
              "</div>"
            ],
            "text/plain": [
              "                                               title  ... Target\n",
              "0  Exclusive: Trump considering fracking mogul Ha...  ...      0\n",
              "1  Trump infrastructure plan adds little to globa...  ...      0\n",
              "2   Patrick Stewart Literally Paid A Guy To Not V...  ...      1\n",
              "3  Trump attorney disputes Comey testimony, slams...  ...      0\n",
              "4  OH LOOK! New Yorkers Don’t Hate Trump As Much ...  ...      1\n",
              "\n",
              "[5 rows x 5 columns]"
            ]
          },
          "metadata": {
            "tags": []
          },
          "execution_count": 70
        }
      ]
    },
    {
      "cell_type": "markdown",
      "metadata": {
        "id": "OnQFYEpbFpzx"
      },
      "source": [
        "### Os Dados\n",
        "Nosso conjunto de dados possui aproximadamente 45 mil linhas e 5 colunas, das quais temos:\n",
        "\n",
        "* `title` - Título da notícia\n",
        "* `text` - Texto da notícia\n",
        "* `subject` - Assunto da notícia\n",
        "* `date` - Data em que foi publicada\n",
        "* `Target` que é nossa variável alvo e está dividida em:\n",
        "  * True (Factual) = 0\n",
        "  * Fake (Falsa) = 1\n"
      ]
    },
    {
      "cell_type": "markdown",
      "metadata": {
        "id": "FjlQlU8xFQbe"
      },
      "source": [
        "### Tratando os Dados\n",
        "\n",
        "Aqui, estamos lidando com nossa linguagem natural em formato de `string`, então precisamos de alguns conhecimentos de NLP para tratar esses dados da melhor forma, para que possam ser passados ao nosso modelo com sucesso, e dessa forma, obtermos os resultados que desejamos."
      ]
    },
    {
      "cell_type": "code",
      "metadata": {
        "id": "hFew55ZhZBwG",
        "colab": {
          "base_uri": "https://localhost:8080/",
          "height": 206
        },
        "outputId": "504c491c-64e0-45d4-dffb-80e469652a91"
      },
      "source": [
        "# tratando do texto das notícias\n",
        "import string\n",
        "def clean_text(text):\n",
        "    words = str(text).split()\n",
        "    words = [i.lower() + \" \" for i in words]\n",
        "    words = \" \".join(words)\n",
        "    words = words.translate(words.maketrans('', '', string.punctuation))\n",
        "    return words\n",
        "\n",
        "df['text'] = df['text'].apply(clean_text)\n",
        "df.head()"
      ],
      "execution_count": 71,
      "outputs": [
        {
          "output_type": "execute_result",
          "data": {
            "text/html": [
              "<div>\n",
              "<style scoped>\n",
              "    .dataframe tbody tr th:only-of-type {\n",
              "        vertical-align: middle;\n",
              "    }\n",
              "\n",
              "    .dataframe tbody tr th {\n",
              "        vertical-align: top;\n",
              "    }\n",
              "\n",
              "    .dataframe thead th {\n",
              "        text-align: right;\n",
              "    }\n",
              "</style>\n",
              "<table border=\"1\" class=\"dataframe\">\n",
              "  <thead>\n",
              "    <tr style=\"text-align: right;\">\n",
              "      <th></th>\n",
              "      <th>title</th>\n",
              "      <th>text</th>\n",
              "      <th>subject</th>\n",
              "      <th>date</th>\n",
              "      <th>Target</th>\n",
              "    </tr>\n",
              "  </thead>\n",
              "  <tbody>\n",
              "    <tr>\n",
              "      <th>0</th>\n",
              "      <td>Exclusive: Trump considering fracking mogul Ha...</td>\n",
              "      <td>cleveland  reuters    republican  presidential...</td>\n",
              "      <td>politicsNews</td>\n",
              "      <td>July 21, 2016</td>\n",
              "      <td>0</td>\n",
              "    </tr>\n",
              "    <tr>\n",
              "      <th>1</th>\n",
              "      <td>Trump infrastructure plan adds little to globa...</td>\n",
              "      <td>london  reuters    investors  who  sent  coppe...</td>\n",
              "      <td>politicsNews</td>\n",
              "      <td>November 16, 2016</td>\n",
              "      <td>0</td>\n",
              "    </tr>\n",
              "    <tr>\n",
              "      <th>2</th>\n",
              "      <td>Patrick Stewart Literally Paid A Guy To Not V...</td>\n",
              "      <td>patrick  stewart  despises  donald  trump  so ...</td>\n",
              "      <td>News</td>\n",
              "      <td>May 13, 2016</td>\n",
              "      <td>1</td>\n",
              "    </tr>\n",
              "    <tr>\n",
              "      <th>3</th>\n",
              "      <td>Trump attorney disputes Comey testimony, slams...</td>\n",
              "      <td>washington  reuters    president  donald  trum...</td>\n",
              "      <td>politicsNews</td>\n",
              "      <td>June 8, 2017</td>\n",
              "      <td>0</td>\n",
              "    </tr>\n",
              "    <tr>\n",
              "      <th>4</th>\n",
              "      <td>OH LOOK! New Yorkers Don’t Hate Trump As Much ...</td>\n",
              "      <td>httpstwittercomriggsreportstatus79868622488195...</td>\n",
              "      <td>politics</td>\n",
              "      <td>Nov 16, 2016</td>\n",
              "      <td>1</td>\n",
              "    </tr>\n",
              "  </tbody>\n",
              "</table>\n",
              "</div>"
            ],
            "text/plain": [
              "                                               title  ... Target\n",
              "0  Exclusive: Trump considering fracking mogul Ha...  ...      0\n",
              "1  Trump infrastructure plan adds little to globa...  ...      0\n",
              "2   Patrick Stewart Literally Paid A Guy To Not V...  ...      1\n",
              "3  Trump attorney disputes Comey testimony, slams...  ...      0\n",
              "4  OH LOOK! New Yorkers Don’t Hate Trump As Much ...  ...      1\n",
              "\n",
              "[5 rows x 5 columns]"
            ]
          },
          "metadata": {
            "tags": []
          },
          "execution_count": 71
        }
      ]
    },
    {
      "cell_type": "markdown",
      "metadata": {
        "id": "h9-5JfsNZv2U"
      },
      "source": [
        "Agora, o que precisamos é separar nossos dados em treino, validação e teste, para que possamos continuar a trilhar o caminho que nos leva ao modelo."
      ]
    },
    {
      "cell_type": "code",
      "metadata": {
        "id": "8qHus0CF0GFy",
        "colab": {
          "base_uri": "https://localhost:8080/"
        },
        "outputId": "1977ecc2-663d-412a-935b-d46d78993b34"
      },
      "source": [
        "# separando os datasets em treino, validação e teste\n",
        "from sklearn.model_selection import train_test_split\n",
        "\n",
        "train, test = train_test_split(df)\n",
        "train, validation = train_test_split(train, test_size = 0.2)\n",
        "print('Entradas por Dataset')\n",
        "print('Dataset de Treino: ',len(train), 'linhas.')\n",
        "print('Dataset de Validação: ', len(validation), 'linhas.')\n",
        "print('Dataset de Teste: ', len(test), 'linhas.')"
      ],
      "execution_count": 72,
      "outputs": [
        {
          "output_type": "stream",
          "text": [
            "Entradas por Dataset\n",
            "Dataset de Treino:  26938 linhas.\n",
            "Dataset de Validação:  6735 linhas.\n",
            "Dataset de Teste:  11225 linhas.\n"
          ],
          "name": "stdout"
        }
      ]
    },
    {
      "cell_type": "markdown",
      "metadata": {
        "id": "jcX6OD6Ua7DX"
      },
      "source": [
        "### Pré-Processamento de Strings - NLP\n",
        "\n",
        "Aqui neste projeto estamos focando em ***Deep Learning*** e a implementação de **Redes Neurais**, por isso, não iremos nos extender em pré-processamento de Strings.\n",
        "\n",
        "De qualquer forma, esse é um ponto importante do projeto. Aqui, basicamente o que queremos é simplificar o texto, para que seja mais fácil do nosso modelo processar e entender. Por isso, iremos utilizar uma técnica que se chama ***Tokenizing***.\n",
        "\n",
        "Em suma, Tokenizing, ou Tokenização, em tradução livre, é um passo que separa longos textos de strings em pedaços de textos mais curtos, chamados de tokens.\n",
        "\n",
        "<p align=center>\n",
        "  <img src=\"https://www.kdnuggets.com/wp-content/uploads/text-tokens-tokenization-manning.jpg\" height=\"30%\">\n",
        "</p>"
      ]
    },
    {
      "cell_type": "code",
      "metadata": {
        "id": "zYkIA4cs2yD2"
      },
      "source": [
        "# preparando os dados para o modelo\n",
        "from tensorflow.keras.preprocessing.text import Tokenizer\n",
        "from tensorflow.keras.preprocessing.sequence import pad_sequences\n",
        "\n",
        "vocab_size = 10000\n",
        "trunc_type = \"post\"\n",
        "pad_type = \"post\"\n",
        "oov_tok = \"<OOV>\"\n",
        "tokenizer = Tokenizer(num_words = vocab_size, oov_token=oov_tok)\n",
        "tokenizer.fit_on_texts(train.text)\n",
        "word_index = tokenizer.word_index\n",
        "\n",
        "# aplicando técnicas tokenizing e padding\n",
        "training_sequences = tokenizer.texts_to_sequences(np.array(train.text))\n",
        "training_padded = pad_sequences(training_sequences,truncating=trunc_type, padding=pad_type)\n",
        "\n",
        "max_length = len(training_padded[0])\n",
        "\n",
        "validation_sequences = tokenizer.texts_to_sequences(np.array(validation.text))\n",
        "validation_padded = pad_sequences(validation_sequences, padding=pad_type, truncating=trunc_type, maxlen = max_length)\n",
        "\n",
        "# criando arrays com inputs\n",
        "x_train = np.copy(training_padded)\n",
        "x_val = np.copy(validation_padded)\n",
        "y_train = train['Target'].values\n",
        "y_val = validation['Target'].values"
      ],
      "execution_count": 73,
      "outputs": []
    },
    {
      "cell_type": "code",
      "metadata": {
        "id": "86bxlEdy28Dz",
        "colab": {
          "base_uri": "https://localhost:8080/"
        },
        "outputId": "09cb3fa6-eb49-470d-bfe2-04753d7313e7"
      },
      "source": [
        "# veriificando o tamanho dos arrays\n",
        "print('Tamanho dos Arrays')\n",
        "print('Treino: ', len(x_train), 'linhas.')\n",
        "print('Resposta: ', len(y_train), 'linhas.')"
      ],
      "execution_count": 74,
      "outputs": [
        {
          "output_type": "stream",
          "text": [
            "Tamanho dos Arrays\n",
            "Treino:  26938 linhas.\n",
            "Resposta:  26938 linhas.\n"
          ],
          "name": "stdout"
        }
      ]
    },
    {
      "cell_type": "markdown",
      "metadata": {
        "id": "smN2S2Btc_9c"
      },
      "source": [
        "### Preparando, Instanciando e Treinando o Modelo\n",
        "\n",
        "Agora que nossos dados estão prontos, é hora de ir ao que interessa.\n",
        "\n",
        "Foi feito um RandomSearch para encontrar os melhores parâmetros, em um processo lento e externo a este notebook, e instanciado um modelo que usa os melhores parâmetros encontrados."
      ]
    },
    {
      "cell_type": "code",
      "metadata": {
        "id": "NaTn3nFONJRQ",
        "colab": {
          "base_uri": "https://localhost:8080/"
        },
        "outputId": "1c4e9820-7e3f-4b27-94ae-42dc284a25e2"
      },
      "source": [
        "# instanciando e dando fit no modelo\n",
        "model = tf.keras.Sequential([\n",
        "        tf.keras.layers.Embedding(vocab_size, (155), input_length=max_length),\n",
        "        tf.keras.layers.Conv1D(16, 5, activation='relu'),\n",
        "        tf.keras.layers.GlobalMaxPooling1D(),\n",
        "        tf.keras.layers.Dense(1, activation='sigmoid')\n",
        "        ])\n",
        "\n",
        "model.compile(loss='binary_crossentropy',\n",
        "                      optimizer=tf.keras.optimizers.Adam(learning_rate = 0.001), \n",
        "                      metrics=['accuracy'])\n",
        "history = model.fit(x_train, y_train, verbose = 2, epochs = 3, validation_data = (x_val, y_val),\n",
        "                   callbacks=[tf.keras.callbacks.EarlyStopping('val_loss', patience=6)])+"
      ],
      "execution_count": 75,
      "outputs": [
        {
          "output_type": "stream",
          "text": [
            "Epoch 1/3\n",
            "842/842 - 123s - loss: 0.0759 - accuracy: 0.9725 - val_loss: 0.0082 - val_accuracy: 0.9976\n",
            "Epoch 2/3\n",
            "842/842 - 92s - loss: 0.0032 - accuracy: 0.9993 - val_loss: 0.0053 - val_accuracy: 0.9982\n",
            "Epoch 3/3\n",
            "842/842 - 92s - loss: 8.1742e-04 - accuracy: 0.9999 - val_loss: 0.0050 - val_accuracy: 0.9982\n"
          ],
          "name": "stdout"
        }
      ]
    },
    {
      "cell_type": "markdown",
      "metadata": {
        "id": "9oRImjz7dwFp"
      },
      "source": [
        "\n",
        "Os resultados são bem promissores, apesar de carecerem de uma maior investigação. No entanto, cumpriu o objetivo de demonstrar o poder das Redes Neurais."
      ]
    },
    {
      "cell_type": "code",
      "metadata": {
        "id": "_WpkTU-v-Xn0",
        "colab": {
          "base_uri": "https://localhost:8080/",
          "height": 541
        },
        "outputId": "ea9d0dff-1404-49b2-817f-8d7d7bebc78e"
      },
      "source": [
        "# visualizando os resultados\n",
        "def plot_graphs(history, string):\n",
        "  plt.plot(history.history[string])\n",
        "  plt.plot(history.history['val_'+string])\n",
        "  plt.xlabel(\"Epochs\")\n",
        "  plt.ylabel(string)\n",
        "  plt.legend([string, 'val_'+string])\n",
        "  plt.show()\n",
        "  \n",
        "plot_graphs(history, \"accuracy\")\n",
        "plot_graphs(history, \"loss\")"
      ],
      "execution_count": 76,
      "outputs": [
        {
          "output_type": "display_data",
          "data": {
            "image/png": "[encoded data removed]",
            "text/plain": [
              "<Figure size 432x288 with 1 Axes>"
            ]
          },
          "metadata": {
            "tags": [],
            "needs_background": "light"
          }
        },
        {
          "output_type": "display_data",
          "data": {
            "image/png": "[encoded data removed]",
            "text/plain": [
              "<Figure size 432x288 with 1 Axes>"
            ]
          },
          "metadata": {
            "tags": [],
            "needs_background": "light"
          }
        }
      ]
    },
    {
      "cell_type": "markdown",
      "metadata": {
        "id": "9vxL_pl3eUpt"
      },
      "source": [
        "### Fazendo Previsões no Conjunto de Teste\n",
        "\n",
        "Por fim, temos o pipeline ideal para tratar nossos dados, já treinamos, tunamos e obtivemos excelentes resultados em nosso conjunto de validação. Nosso modelo está pronto, mas ele tem mais uma missão a cumprir. \n",
        "\n",
        "Vamos apresentar dados completamente novos a ele, fazer previsõs e ver como ele se sai."
      ]
    },
    {
      "cell_type": "code",
      "metadata": {
        "id": "Z-c_UmotBPdC"
      },
      "source": [
        "# tratando os dados de teste\n",
        "test_sequences = tokenizer.texts_to_sequences(np.array(test.text))\n",
        "test_padded = pad_sequences(test_sequences, padding=pad_type, truncating=trunc_type, maxlen = max_length)"
      ],
      "execution_count": 77,
      "outputs": []
    },
    {
      "cell_type": "code",
      "metadata": {
        "id": "oOp2M0g_BRsn"
      },
      "source": [
        "# fazendo previsões\n",
        "preds = np.round(model.predict(test_padded))"
      ],
      "execution_count": 78,
      "outputs": []
    },
    {
      "cell_type": "code",
      "metadata": {
        "id": "wh3xySNcBS7q",
        "colab": {
          "base_uri": "https://localhost:8080/"
        },
        "outputId": "25f1dcd3-a682-4fe9-a3d1-80a73999847e"
      },
      "source": [
        "# conferindo o tamanho do resultado\n",
        "len(preds)"
      ],
      "execution_count": 79,
      "outputs": [
        {
          "output_type": "execute_result",
          "data": {
            "text/plain": [
              "11225"
            ]
          },
          "metadata": {
            "tags": []
          },
          "execution_count": 79
        }
      ]
    },
    {
      "cell_type": "code",
      "metadata": {
        "id": "wgfIj_TjBUb7",
        "colab": {
          "base_uri": "https://localhost:8080/"
        },
        "outputId": "9b95d2f4-fde9-4229-8c15-0ae0b8f0028c"
      },
      "source": [
        "# verificando a acurácia\n",
        "acc = np.sum(1 if i==j else 0 for i,j in zip(preds, test[\"Target\"].values)) / len(test)\n",
        "print(\"Accuracy: \", acc )"
      ],
      "execution_count": 80,
      "outputs": [
        {
          "output_type": "stream",
          "text": [
            "Accuracy:  0.9979510022271715\n"
          ],
          "name": "stdout"
        }
      ]
    }
  ]
}